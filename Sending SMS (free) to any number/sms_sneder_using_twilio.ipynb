{
 "cells": [
  {
   "cell_type": "code",
   "execution_count": 7,
   "metadata": {},
   "outputs": [],
   "source": [
    "#Importing required modules from twilio package (pip install twilio)\n",
    "from twilio.rest import Client"
   ]
  },
  {
   "cell_type": "code",
   "execution_count": 8,
   "metadata": {},
   "outputs": [],
   "source": [
    "#Create free trial twilio account.\n",
    "#Get the account sid and auth token\n",
    "#Create a free trial number using trial balance\n",
    "\n",
    "#Changin the sid/auth tokens from actuals for privacy reasons\n",
    "account_sid = 'ACarr145659c7f6b4fcb2978rd74971101'\n",
    "auth_token = '2095967dcrb09620fma16ff5t4db402e'"
   ]
  },
  {
   "cell_type": "code",
   "execution_count": 3,
   "metadata": {},
   "outputs": [],
   "source": [
    "#Initiating the Client\n",
    "client = Client(account_sid, auth_token)"
   ]
  },
  {
   "cell_type": "code",
   "execution_count": 4,
   "metadata": {},
   "outputs": [],
   "source": [
    "#Sending message\n",
    "#Use free trial number from twilio in from_\n",
    "#Use any number with country code in to\n",
    "message = client.messages.create(body='Hi there! How are you? Have a nice day!', from_=[+15595001013],to = [+917602518817])"
   ]
  },
  {
   "cell_type": "code",
   "execution_count": 5,
   "metadata": {},
   "outputs": [
    {
     "name": "stdout",
     "output_type": "stream",
     "text": [
      "SM2302079177ca4d6286e1312acd8b6482\n"
     ]
    }
   ],
   "source": [
    "# printing the sid after success\n",
    "print(message.sid)\n",
    "#MSG received!"
   ]
  },
  {
   "cell_type": "code",
   "execution_count": null,
   "metadata": {},
   "outputs": [],
   "source": []
  }
 ],
 "metadata": {
  "kernelspec": {
   "display_name": "Python 3",
   "language": "python",
   "name": "python3"
  },
  "language_info": {
   "codemirror_mode": {
    "name": "ipython",
    "version": 3
   },
   "file_extension": ".py",
   "mimetype": "text/x-python",
   "name": "python",
   "nbconvert_exporter": "python",
   "pygments_lexer": "ipython3",
   "version": "3.8.5"
  }
 },
 "nbformat": 4,
 "nbformat_minor": 4
}
